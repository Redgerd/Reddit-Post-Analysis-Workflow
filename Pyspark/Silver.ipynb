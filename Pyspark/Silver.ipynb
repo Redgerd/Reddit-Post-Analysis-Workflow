{
 "cells": [
  {
   "cell_type": "markdown",
   "metadata": {
    "application/vnd.databricks.v1+cell": {
     "cellMetadata": {},
     "inputWidgets": {},
     "nuid": "bc59d110-812d-4325-8d9c-351ef653350e",
     "showTitle": false,
     "tableResultSettingsMap": {},
     "title": ""
    }
   },
   "source": [
    "### Import Libraries & Create Spark Session"
   ]
  },
  {
   "cell_type": "code",
   "execution_count": 0,
   "metadata": {
    "application/vnd.databricks.v1+cell": {
     "cellMetadata": {
      "byteLimit": 2048000,
      "rowLimit": 10000
     },
     "inputWidgets": {},
     "nuid": "f734c483-560b-47a2-82e2-e08c0fb52f11",
     "showTitle": false,
     "tableResultSettingsMap": {},
     "title": ""
    }
   },
   "outputs": [],
   "source": [
    "# Databricks notebook source\n",
    "from pyspark.sql import SparkSession\n",
    "from pyspark.sql.functions import col, unix_timestamp\n",
    "from pyspark.sql.functions import count\n",
    "\n",
    "\n",
    "# Create Spark session\n",
    "spark = SparkSession.builder \\\n",
    "    .appName(\"Reddit Silver Layer\") \\\n",
    "    .config(\"spark.sql.extensions\", \"io.delta.sql.DeltaSparkSessionExtension\") \\\n",
    "    .config(\"spark.sql.catalog.spark_catalog\", \"org.apache.spark.sql.delta.catalog.DeltaCatalog\") \\\n",
    "    .getOrCreate()\n"
   ]
  },
  {
   "cell_type": "markdown",
   "metadata": {
    "application/vnd.databricks.v1+cell": {
     "cellMetadata": {},
     "inputWidgets": {},
     "nuid": "0ad51617-7772-4fc7-a368-a76a3196bc7a",
     "showTitle": false,
     "tableResultSettingsMap": {},
     "title": ""
    }
   },
   "source": [
    "### Load Data from Bronze Layer"
   ]
  },
  {
   "cell_type": "code",
   "execution_count": 0,
   "metadata": {
    "application/vnd.databricks.v1+cell": {
     "cellMetadata": {
      "byteLimit": 2048000,
      "implicitDf": true,
      "rowLimit": 10000
     },
     "inputWidgets": {},
     "nuid": "901e2211-9b3f-40da-a012-bb437bf0b723",
     "showTitle": false,
     "tableResultSettingsMap": {},
     "title": ""
    }
   },
   "outputs": [],
   "source": [
    "df_bronze = spark.read.format(\"delta\").table(\"big_data_analytics_v.big_data_analytics_sesssion_v.bronze_reddit_posts\")"
   ]
  },
  {
   "cell_type": "markdown",
   "metadata": {
    "application/vnd.databricks.v1+cell": {
     "cellMetadata": {},
     "inputWidgets": {},
     "nuid": "93a1309b-4b3b-4d19-8c22-5eb853fd7d32",
     "showTitle": false,
     "tableResultSettingsMap": {},
     "title": ""
    }
   },
   "source": [
    "### Clean the Data"
   ]
  },
  {
   "cell_type": "code",
   "execution_count": 0,
   "metadata": {
    "application/vnd.databricks.v1+cell": {
     "cellMetadata": {
      "byteLimit": 2048000,
      "rowLimit": 10000
     },
     "inputWidgets": {},
     "nuid": "40b032d1-d3f2-4237-aa02-716b1b7c4ed2",
     "showTitle": false,
     "tableResultSettingsMap": {},
     "title": ""
    }
   },
   "outputs": [
    {
     "output_type": "stream",
     "name": "stdout",
     "output_type": "stream",
     "text": [
      "Number of rows after cleaning: 2300\nNumber of unique rows: 109\n"
     ]
    }
   ],
   "source": [
    "# Drop rows with null values in critical columns (post_id, title, and score)\n",
    "df_cleaned = df_bronze.dropna(subset=[\"post_id\", \"title\", \"score\"])\n",
    "\n",
    "# Log the number of rows after cleaning for validation\n",
    "print(f\"Number of rows after cleaning: {df_cleaned.count()}\")\n",
    "\n",
    "# Step 2: Ensure uniqueness by dropping duplicate rows based on the 'post_id' column\n",
    "df_unique = df_cleaned.dropDuplicates([\"post_id\"])\n",
    "\n",
    "# Log the number of unique rows for validation\n",
    "print(f\"Number of unique rows: {df_unique.count()}\")\n",
    "\n",
    "# Step 3: Perform additional transformations\n",
    "df_transformed = df_unique.withColumn(\n",
    "    \"created_at\", \n",
    "    unix_timestamp(\"created_utc\").cast(\"timestamp\")  # Make sure 'created_utc' is a valid timestamp\n",
    ").filter(col(\"score\") > 10)\n",
    "\n",
    "# Step 4: Aggregate data by author to see the number of posts per author\n",
    "df_author_count = df_transformed.groupBy(\"author\").agg(count(\"post_id\").alias(\"post_count\"))\n",
    "\n",
    "df_transformed = df_transformed.drop(\"created_utc\")"
   ]
  },
  {
   "cell_type": "markdown",
   "metadata": {
    "application/vnd.databricks.v1+cell": {
     "cellMetadata": {},
     "inputWidgets": {},
     "nuid": "58ecc308-545a-4041-9ea4-806ae4d590cf",
     "showTitle": false,
     "tableResultSettingsMap": {},
     "title": ""
    }
   },
   "source": [
    "### Insert Data into Silver Table in Unity Catalog"
   ]
  },
  {
   "cell_type": "code",
   "execution_count": 0,
   "metadata": {
    "application/vnd.databricks.v1+cell": {
     "cellMetadata": {
      "byteLimit": 2048000,
      "rowLimit": 10000
     },
     "inputWidgets": {},
     "nuid": "355c94ba-c270-40e2-bb06-1c65f1f4f319",
     "showTitle": false,
     "tableResultSettingsMap": {},
     "title": ""
    }
   },
   "outputs": [
    {
     "output_type": "stream",
     "name": "stdout",
     "output_type": "stream",
     "text": [
      "Data inserted into Silver table successfully!\n"
     ]
    }
   ],
   "source": [
    "# Create or replace the temporary view with the transformed data (optional)\n",
    "df_transformed.createOrReplaceTempView(\"silver_reddit_posts_temp\")\n",
    "\n",
    "# Insert data into the Silver Delta table (appending data)\n",
    "df_transformed.write.format(\"delta\").mode(\"append\").option(\"streaming\", \"true\").saveAsTable(\"big_data_analytics_v.big_data_analytics_sesssion_v.silver_reddit_posts\")\n",
    "\n",
    "# Log the completion of the insert process\n",
    "print(\"Data inserted into Silver table successfully!\")"
   ]
  }
 ],
 "metadata": {
  "application/vnd.databricks.v1+notebook": {
   "computePreferences": null,
   "dashboards": [],
   "environmentMetadata": {
    "base_environment": "",
    "client": "1"
   },
   "language": "python",
   "notebookMetadata": {
    "mostRecentlyExecutedCommandWithImplicitDF": {
     "commandId": 2296144320312114,
     "dataframes": [
      "_sqldf"
     ]
    },
    "pythonIndentUnit": 4
   },
   "notebookName": "Silver",
   "widgets": {}
  },
  "language_info": {
   "name": "python"
  }
 },
 "nbformat": 4,
 "nbformat_minor": 0
}