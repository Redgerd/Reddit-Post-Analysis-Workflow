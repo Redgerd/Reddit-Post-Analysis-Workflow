{
 "cells": [
  {
   "cell_type": "code",
   "execution_count": 0,
   "metadata": {
    "application/vnd.databricks.v1+cell": {
     "cellMetadata": {},
     "inputWidgets": {},
     "nuid": "d11097cf-23dd-4ca9-bfd3-fe63c88d2789",
     "showTitle": false,
     "tableResultSettingsMap": {},
     "title": ""
    }
   },
   "outputs": [],
   "source": [
    "pip install NRCLex"
   ]
  },
  {
   "cell_type": "code",
   "execution_count": 0,
   "metadata": {
    "application/vnd.databricks.v1+cell": {
     "cellMetadata": {},
     "inputWidgets": {},
     "nuid": "f489b57d-3f6d-4068-aae8-13385b8af031",
     "showTitle": false,
     "tableResultSettingsMap": {},
     "title": ""
    }
   },
   "outputs": [],
   "source": [
    "from pyspark.sql import SparkSession\n",
    "from pyspark.sql.functions import col, length, udf, when, count, avg, max, min, row_number\n",
    "from pyspark.sql.types import StringType, FloatType, IntegerType\n",
    "from pyspark.sql import functions as F\n",
    "from pyspark.sql.window import Window\n",
    "from textblob import TextBlob\n",
    "import dlt\n",
    "\n",
    "# Create Spark Session\n",
    "spark = SparkSession.builder \\\n",
    "    .appName(\"Enhanced Reddit Gold Layer\") \\\n",
    "    .config(\"spark.sql.extensions\", \"io.delta.sql.DeltaSparkSessionExtension\") \\\n",
    "    .config(\"spark.sql.catalog.spark_catalog\", \"org.apache.spark.sql.delta.catalog.DeltaCatalog\") \\\n",
    "    .getOrCreate()"
   ]
  },
  {
   "cell_type": "code",
   "execution_count": 0,
   "metadata": {
    "application/vnd.databricks.v1+cell": {
     "cellMetadata": {},
     "inputWidgets": {},
     "nuid": "f10c5dc6-1e3f-4fac-84cb-06d28129da4e",
     "showTitle": false,
     "tableResultSettingsMap": {},
     "title": ""
    }
   },
   "outputs": [],
   "source": [
    "# --- Sentiment Analysis Functions ---\n",
    "def calculate_sentiment_polarity(text):\n",
    "    if text:\n",
    "        blob = TextBlob(text)\n",
    "        return blob.sentiment.polarity\n",
    "    return 0.0\n",
    "\n",
    "def classify_sentiment(polarity):\n",
    "    if polarity > 0.5:\n",
    "        return \"Very Positive\"\n",
    "    elif polarity > 0.1:\n",
    "        return \"Positive\"\n",
    "    elif polarity < -0.5:\n",
    "        return \"Very Negative\"\n",
    "    elif polarity < -0.1:\n",
    "        return \"Negative\"\n",
    "    else:\n",
    "        return \"Neutral\"\n",
    "    \n",
    "# Register UDFs\n",
    "udf_calculate_sentiment_polarity = udf(calculate_sentiment_polarity, FloatType())\n",
    "udf_classify_sentiment = udf(classify_sentiment, StringType())"
   ]
  },
  {
   "cell_type": "code",
   "execution_count": 0,
   "metadata": {
    "application/vnd.databricks.v1+cell": {
     "cellMetadata": {},
     "inputWidgets": {},
     "nuid": "3dae793f-ec37-4caa-aff3-9102176bb2ea",
     "showTitle": false,
     "tableResultSettingsMap": {},
     "title": ""
    }
   },
   "outputs": [],
   "source": [
    "@dlt.table(\n",
    "    name=\"gold_reddit_posts\",\n",
    "    comment=\"Gold Layer with enhanced Reddit post data\"\n",
    ")\n",
    "def gold_reddit_posts():\n",
    "    # Read the transformed silver layer\n",
    "    transformed_df = dlt.read(\"silver_reddit_posts\")\n",
    "    \n",
    "    # Add sentiment columns\n",
    "    transformed_df = transformed_df.withColumn(\n",
    "        \"title_polarity\", udf_calculate_sentiment_polarity(F.col(\"title\"))\n",
    "    ).withColumn(\n",
    "        \"title_sentiment\", udf_classify_sentiment(F.col(\"title_polarity\"))\n",
    "    ).withColumn(\n",
    "        \"description_polarity\", udf_calculate_sentiment_polarity(F.col(\"description\"))\n",
    "    ).withColumn(\n",
    "        \"description_sentiment\", udf_classify_sentiment(F.col(\"description_polarity\"))\n",
    "    )\n",
    "    \n",
    "    # Select only the columns you need\n",
    "    gold_df = transformed_df.select(\n",
    "        \"post_id\",\n",
    "        \"title\",\n",
    "        \"description\",\n",
    "        \"score\",\n",
    "        \"created_at\",\n",
    "        \"title_polarity\",\n",
    "        \"title_sentiment\",\n",
    "        \"description_polarity\",\n",
    "        \"description_sentiment\"\n",
    "    )\n",
    "    \n",
    "    return gold_df"
   ]
  }
 ],
 "metadata": {
  "application/vnd.databricks.v1+notebook": {
   "computePreferences": null,
   "dashboards": [],
   "environmentMetadata": null,
   "language": "python",
   "notebookMetadata": {
    "pythonIndentUnit": 4
   },
   "notebookName": "Sentiment Analysis",
   "widgets": {}
  },
  "language_info": {
   "name": "python"
  }
 },
 "nbformat": 4,
 "nbformat_minor": 0
}