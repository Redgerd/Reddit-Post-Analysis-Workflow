{
 "cells": [
  {
   "cell_type": "code",
   "execution_count": 0,
   "metadata": {
    "application/vnd.databricks.v1+cell": {
     "cellMetadata": {
      "byteLimit": 2048000,
      "rowLimit": 10000
     },
     "inputWidgets": {},
     "nuid": "1c877397-f9d6-45cd-bd6a-384d08803d7e",
     "showTitle": false,
     "tableResultSettingsMap": {},
     "title": ""
    }
   },
   "outputs": [
    {
     "output_type": "stream",
     "name": "stdout",
     "output_type": "stream",
     "text": [
      "Collecting praw\n  Downloading praw-7.8.1-py3-none-any.whl (189 kB)\n     ━━━━━━━━━━━━━━━━━━━━━━━━━━━━━━━━━━━━━ 189.3/189.3 kB 871.3 kB/s eta 0:00:00\nCollecting update_checker>=0.18\n  Downloading update_checker-0.18.0-py3-none-any.whl (7.0 kB)\nCollecting prawcore<3,>=2.4\n  Downloading prawcore-2.4.0-py3-none-any.whl (17 kB)\nRequirement already satisfied: websocket-client>=0.54.0 in /databricks/python3/lib/python3.10/site-packages (from praw) (0.58.0)\nRequirement already satisfied: requests<3.0,>=2.6.0 in /databricks/python3/lib/python3.10/site-packages (from prawcore<3,>=2.4->praw) (2.28.1)\nRequirement already satisfied: six in /usr/lib/python3/dist-packages (from websocket-client>=0.54.0->praw) (1.16.0)\nRequirement already satisfied: certifi>=2017.4.17 in /databricks/python3/lib/python3.10/site-packages (from requests<3.0,>=2.6.0->prawcore<3,>=2.4->praw) (2022.12.7)\nRequirement already satisfied: idna<4,>=2.5 in /databricks/python3/lib/python3.10/site-packages (from requests<3.0,>=2.6.0->prawcore<3,>=2.4->praw) (3.4)\nRequirement already satisfied: charset-normalizer<3,>=2 in /databricks/python3/lib/python3.10/site-packages (from requests<3.0,>=2.6.0->prawcore<3,>=2.4->praw) (2.0.4)\nRequirement already satisfied: urllib3<1.27,>=1.21.1 in /databricks/python3/lib/python3.10/site-packages (from requests<3.0,>=2.6.0->prawcore<3,>=2.4->praw) (1.26.14)\nInstalling collected packages: update_checker, prawcore, praw\nSuccessfully installed praw-7.8.1 prawcore-2.4.0 update_checker-0.18.0\n\u001B[43mNote: you may need to restart the kernel using %restart_python or dbutils.library.restartPython() to use updated packages.\u001B[0m\n"
     ]
    }
   ],
   "source": [
    "%pip install praw"
   ]
  },
  {
   "cell_type": "markdown",
   "metadata": {
    "application/vnd.databricks.v1+cell": {
     "cellMetadata": {},
     "inputWidgets": {},
     "nuid": "4462a4d8-93ac-4397-b990-cbe4d85a4b82",
     "showTitle": false,
     "tableResultSettingsMap": {},
     "title": ""
    }
   },
   "source": [
    "### Import Libraries"
   ]
  },
  {
   "cell_type": "code",
   "execution_count": 0,
   "metadata": {
    "application/vnd.databricks.v1+cell": {
     "cellMetadata": {
      "byteLimit": 2048000,
      "rowLimit": 10000
     },
     "inputWidgets": {},
     "nuid": "5c87fb38-4ed1-40fe-b834-5aeeaf022274",
     "showTitle": false,
     "tableResultSettingsMap": {},
     "title": ""
    }
   },
   "outputs": [],
   "source": [
    "# Databricks notebook source\n",
    "from pyspark.sql import SparkSession\n",
    "from datetime import datetime\n",
    "import praw\n",
    "from pyspark.sql.types import StructType, StructField, StringType, IntegerType, TimestampType\n"
   ]
  },
  {
   "cell_type": "markdown",
   "metadata": {
    "application/vnd.databricks.v1+cell": {
     "cellMetadata": {},
     "inputWidgets": {},
     "nuid": "4ff7e24d-2069-4ac9-b41e-6d2b1d002afd",
     "showTitle": false,
     "tableResultSettingsMap": {},
     "title": ""
    }
   },
   "source": [
    "### Reddit API Setup"
   ]
  },
  {
   "cell_type": "code",
   "execution_count": 0,
   "metadata": {
    "application/vnd.databricks.v1+cell": {
     "cellMetadata": {
      "byteLimit": 2048000,
      "rowLimit": 10000
     },
     "inputWidgets": {},
     "nuid": "6e3d7807-6f8e-4029-91d3-2cad65d52d2a",
     "showTitle": false,
     "tableResultSettingsMap": {},
     "title": ""
    }
   },
   "outputs": [],
   "source": [
    "# Reddit API credentials and setup\n",
    "REDDIT_CLIENT_ID = \"Cb9XMUcLMOnhnSO7JyHOSw\"\n",
    "REDDIT_CLIENT_SECRET = \"XZlHL-BNgvaVJYasA6lG0DjFbqXbmA\"\n",
    "REDDIT_USER_AGENT = \"Delta Live pipeline\"\n",
    "\n",
    "# Initialize Reddit API client\n",
    "reddit = praw.Reddit(\n",
    "    client_id=REDDIT_CLIENT_ID,\n",
    "    client_secret=REDDIT_CLIENT_SECRET,\n",
    "    user_agent=REDDIT_USER_AGENT\n",
    ")"
   ]
  },
  {
   "cell_type": "markdown",
   "metadata": {
    "application/vnd.databricks.v1+cell": {
     "cellMetadata": {},
     "inputWidgets": {},
     "nuid": "ab9e5d7c-1e87-4f71-9174-0f5481b61ddd",
     "showTitle": false,
     "tableResultSettingsMap": {},
     "title": ""
    }
   },
   "source": [
    "### Fetch Subreddit Data"
   ]
  },
  {
   "cell_type": "code",
   "execution_count": 0,
   "metadata": {
    "application/vnd.databricks.v1+cell": {
     "cellMetadata": {
      "byteLimit": 2048000,
      "rowLimit": 10000
     },
     "inputWidgets": {},
     "nuid": "87dd1009-b29f-41fa-b75c-3ccc7e7b00f4",
     "showTitle": false,
     "tableResultSettingsMap": {},
     "title": ""
    }
   },
   "outputs": [
    {
     "output_type": "stream",
     "name": "stderr",
     "output_type": "stream",
     "text": [
      "WARNING:praw:It appears that you are using PRAW in an asynchronous environment.\nIt is strongly recommended to use Async PRAW: https://asyncpraw.readthedocs.io.\nSee https://praw.readthedocs.io/en/latest/getting_started/multiple_instances.html#discord-bots-and-asynchronous-environments for more info.\n\n"
     ]
    }
   ],
   "source": [
    "# Function to fetch subreddit data\n",
    "def fetch_subreddit_data(subreddit_name=\"pakistan\", limit=100):\n",
    "    \"\"\"Fetch hot posts from a subreddit.\"\"\"\n",
    "    subreddit = reddit.subreddit(subreddit_name)\n",
    "    posts = [\n",
    "        {\n",
    "            \"post_id\": post.id,\n",
    "            \"title\": post.title,\n",
    "            \"description\": post.selftext or None,\n",
    "            \"subreddit\": subreddit_name,\n",
    "            \"author\": str(post.author),\n",
    "            \"score\": post.score,\n",
    "            \"created_utc\": datetime.utcfromtimestamp(post.created_utc),\n",
    "            \"url\": post.url\n",
    "        }\n",
    "        for post in subreddit.hot(limit=limit)\n",
    "    ]\n",
    "    return posts\n",
    "\n",
    "# Fetch raw data from the subreddit\n",
    "subreddit_name = \"pakistan\"\n",
    "raw_data = fetch_subreddit_data(subreddit_name=subreddit_name, limit=100)"
   ]
  },
  {
   "cell_type": "markdown",
   "metadata": {
    "application/vnd.databricks.v1+cell": {
     "cellMetadata": {},
     "inputWidgets": {},
     "nuid": "b19863d6-76c9-4469-af02-0ec09ac7fe66",
     "showTitle": false,
     "tableResultSettingsMap": {},
     "title": ""
    }
   },
   "source": [
    "### Create Spark Session & Define Schema"
   ]
  },
  {
   "cell_type": "code",
   "execution_count": 0,
   "metadata": {
    "application/vnd.databricks.v1+cell": {
     "cellMetadata": {
      "byteLimit": 2048000,
      "rowLimit": 10000
     },
     "inputWidgets": {},
     "nuid": "cc8ba2e8-fefa-4f0c-bf29-c9b34f88cdec",
     "showTitle": false,
     "tableResultSettingsMap": {},
     "title": ""
    }
   },
   "outputs": [],
   "source": [
    "# Create Spark session with Delta Lake extensions\n",
    "spark = SparkSession.builder \\\n",
    "    .appName(\"Reddit Bronze Layer\") \\\n",
    "    .config(\"spark.sql.extensions\", \"io.delta.sql.DeltaSparkSessionExtension\") \\\n",
    "    .config(\"spark.sql.catalog.spark_catalog\", \"org.apache.spark.sql.delta.catalog.DeltaCatalog\") \\\n",
    "    .getOrCreate()\n",
    "\n",
    "# Define schema for the DataFrame\n",
    "schema = StructType([\n",
    "    StructField(\"post_id\", StringType(), True),\n",
    "    StructField(\"title\", StringType(), True),\n",
    "    StructField(\"description\", StringType(), True),\n",
    "    StructField(\"subreddit\", StringType(), True),\n",
    "    StructField(\"author\", StringType(), True),\n",
    "    StructField(\"score\", IntegerType(), True),\n",
    "    StructField(\"created_utc\", TimestampType(), True),\n",
    "    StructField(\"url\", StringType(), True)\n",
    "])"
   ]
  },
  {
   "cell_type": "markdown",
   "metadata": {
    "application/vnd.databricks.v1+cell": {
     "cellMetadata": {},
     "inputWidgets": {},
     "nuid": "46555387-0358-42f8-b146-d15a561f2804",
     "showTitle": false,
     "tableResultSettingsMap": {},
     "title": ""
    }
   },
   "source": [
    "### Write Data to Delta Format"
   ]
  },
  {
   "cell_type": "code",
   "execution_count": 0,
   "metadata": {
    "application/vnd.databricks.v1+cell": {
     "cellMetadata": {
      "byteLimit": 2048000,
      "rowLimit": 10000
     },
     "inputWidgets": {},
     "nuid": "245db33d-bd54-4ce6-a30c-036fe041ea4a",
     "showTitle": false,
     "tableResultSettingsMap": {},
     "title": ""
    }
   },
   "outputs": [],
   "source": [
    "# Create DataFrame from raw data\n",
    "df = spark.createDataFrame(raw_data, schema=schema)\n",
    "\n",
    "# Create or replace the temporary view with the DataFrame\n",
    "df.createOrReplaceTempView(\"bronze_reddit_posts_temp\")"
   ]
  },
  {
   "cell_type": "code",
   "execution_count": 0,
   "metadata": {
    "application/vnd.databricks.v1+cell": {
     "cellMetadata": {},
     "inputWidgets": {},
     "nuid": "39ef6c87-7099-4705-844d-a7a352c6629c",
     "showTitle": false,
     "tableResultSettingsMap": {},
     "title": ""
    }
   },
   "outputs": [],
   "source": [
    "import dlt\n",
    "# Use DLT to create a Delta Live Table\n",
    "@dlt.table(\n",
    "    comment=\"This table contains raw Reddit posts fetched from the Pakistan subreddit\",\n",
    "    table_properties={\"quality\": \"bronze\"}\n",
    ")\n",
    "def bronze_reddit_posts():\n",
    "    # Returning the DataFrame to be stored in the Delta Live Table\n",
    "    return df"
   ]
  }
 ],
 "metadata": {
  "application/vnd.databricks.v1+notebook": {
   "computePreferences": null,
   "dashboards": [],
   "environmentMetadata": {
    "base_environment": "",
    "client": "1"
   },
   "language": "python",
   "notebookMetadata": {
    "pythonIndentUnit": 4
   },
   "notebookName": "Bronze",
   "widgets": {}
  },
  "language_info": {
   "name": "python"
  }
 },
 "nbformat": 4,
 "nbformat_minor": 0
}